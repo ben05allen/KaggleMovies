{
 "cells": [
  {
   "cell_type": "code",
   "id": "ec338cc5-e622-455f-9945-ebb985c3810a",
   "metadata": {
    "jupyter": {
     "is_executing": true
    }
   },
   "source": [
    "import polars as pl"
   ],
   "outputs": [],
   "execution_count": null
  },
  {
   "cell_type": "code",
   "execution_count": null,
   "id": "5d936e53-4d48-4b65-8b8b-010944cdc83e",
   "metadata": {},
   "outputs": [],
   "source": []
  }
 ],
 "metadata": {
  "kernelspec": {
   "display_name": "Python 3 (ipykernel)",
   "language": "python",
   "name": "python3"
  },
  "language_info": {
   "codemirror_mode": {
    "name": "ipython",
    "version": 3
   },
   "file_extension": ".py",
   "mimetype": "text/x-python",
   "name": "python",
   "nbconvert_exporter": "python",
   "pygments_lexer": "ipython3",
   "version": "3.12.4"
  }
 },
 "nbformat": 4,
 "nbformat_minor": 5
}
